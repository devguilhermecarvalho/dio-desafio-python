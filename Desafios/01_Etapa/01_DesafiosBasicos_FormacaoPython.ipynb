{
 "cells": [
  {
   "cell_type": "markdown",
   "metadata": {},
   "source": [
    "DESAFIO 01<br>\n",
    "O microblog Twitter é conhecido por limitar as postagens em 140 caracteres.<br> Conferir se um texto vai caber em um tuíte é sua tarefa.<br>\n",
    "<br>\n",
    "Entrada<br>\n",
    "A entrada é uma linha de texto T (1 ≤ |T| ≤ 500).<br>\n",
    "<br>\n",
    "Saída<br>\n",
    "A saída é dada em uma única linha. Ela deve ser \"TWEET\" (sem as aspas) se a linha de texto T tem até 140 caracteres. Se T tem mais de 140 caracteres, a saída deve ser \"MUTE\".<br>"
   ]
  },
  {
   "cell_type": "code",
   "execution_count": null,
   "metadata": {},
   "outputs": [],
   "source": [
    "#Exercício 1\n",
    "texto = input(\"\")\n",
    "\n",
    "if len(texto) <= 140:\n",
    "    print(\"TWEET\")\n",
    "else:\n",
    "    print(\"MUTE\")"
   ]
  },
  {
   "cell_type": "markdown",
   "metadata": {},
   "source": [
    "Desafio 02<br>\n",
    "Leia um valor inteiro entre 1 e 12, inclusive. Correspondente a este valor, deve ser apresentado como resposta o mês do ano por extenso, em inglês, com a primeira letra maiúscula.<br>\n",
    "<br>\n",
    "Entrada<br>\n",
    "A entrada contém um único valor inteiro.<br>\n",
    "<br>\n",
    "Saída<br>\n",
    "Imprima por extenso o nome do mês correspondente ao número existente na entrada, com a primeira letra em maiúscula.<br>"
   ]
  },
  {
   "cell_type": "code",
   "execution_count": null,
   "metadata": {},
   "outputs": [],
   "source": [
    "#Exercício 2\n",
    "month = input()\n",
    "\n",
    "months_dict = {\n",
    "    \"1\":\"January\",\n",
    "    \"2\":\"February\",\n",
    "    \"3\":\"March\",\n",
    "    \"4\":\"April\",\n",
    "    \"5\":\"May\",\n",
    "    \"6\":\"June\",\n",
    "    \"7\":\"July\",\n",
    "    \"8\":\"August\",\n",
    "    \"9\":\"September\",\n",
    "    \"10\":\"October\",\n",
    "    \"11\":\"November\",\n",
    "    \"12\":\"December\"\n",
    "}\n",
    "\n",
    "if month in months_dict:\n",
    "  month_select = months_dict[month]\n",
    "  print(month_select.capitalize())"
   ]
  },
  {
   "cell_type": "markdown",
   "metadata": {},
   "source": [
    "Desafio 03<br>\n",
    "Paulinho tem em suas mãos um novo problema. Agora a sua professora lhe pediu que construísse um programa para verificar, à partir de dois valores muito grandes A e B, se B corresponde aos últimos dígitos de A.<br>\n",
    "<br>\n",
    "Entrada<br>\n",
    "A entrada consiste de vários casos de teste. A primeira linha de entrada contém um inteiro N que indica a quantidade de casos de teste. Cada caso de teste consiste de dois valores A e B maiores que zero, cada um deles podendo ter até 1000 dígitos.<br>\n",
    "<br>\n",
    "Saída<br>\n",
    "Para cada caso de entrada imprima uma mensagem indicando se o segundo valor encaixa no primeiro valor, confome exemplo abaixo.<br>"
   ]
  },
  {
   "cell_type": "code",
   "execution_count": null,
   "metadata": {},
   "outputs": [],
   "source": [
    "N = int(input())\n",
    "\n",
    "while N > 0:\n",
    "    # Leitura dos valores A e B\n",
    "    A, B = input().split()      # Entrada dos valores A e B e o corte\n",
    "\n",
    "    # Verifica se B encaixa nos últimos dígitos de A\n",
    "    if len(B) > len(A):         # Se os dígitos de B são maiores que A\n",
    "        print(\"nao encaixa\")    # Escreva\n",
    "    else:                       # Se não\n",
    "        if A[-len(B):] == B:    # Verifica se A com o mesmo comprimento de B invertido [-len(B):] é igual a B\n",
    "            print(\"encaixa\")    # Se os últimos dígitos de A forem iguais os últimos dígitos de B\n",
    "        else:\n",
    "            print(\"nao encaixa\") # Se não\n",
    "\n",
    "    N -= 1"
   ]
  },
  {
   "cell_type": "code",
   "execution_count": null,
   "metadata": {},
   "outputs": [],
   "source": [
    "# Desafio 2 - 2\n",
    "def calcular_garrafas_2_dias(n, k):\n",
    "    garrafas_cheias = n\n",
    "    garrafas_vazias = n\n",
    "    \n",
    "    while garrafas_vazias >= k:\n",
    "        trocas = garrafas_vazias // k\n",
    "        garrafas_cheias += trocas\n",
    "        garrafas_vazias = trocas + (garrafas_vazias % k)\n",
    "    \n",
    "    return garrafas_cheias\n",
    "\n",
    "# Leitura do número de casos de teste\n",
    "T = int(input())\n",
    "\n",
    "# Loop para cada caso de teste\n",
    "for _ in range(T):\n",
    "    # Leitura dos valores de N e K para o caso atual\n",
    "    N, K = map(int, input().split())\n",
    "    \n",
    "    # Cálculo e impressão do resultado\n",
    "    resultado = calcular_garrafas_2_dias(N, K)\n",
    "    print(resultado)"
   ]
  },
  {
   "cell_type": "code",
   "execution_count": null,
   "metadata": {},
   "outputs": [],
   "source": [
    "# Desafio 2 - 3\n",
    "a = input() \n",
    "b = input() \n",
    "c = input() \n",
    "\n",
    "if a == \"vertebrado\": \n",
    "  if b == \"ave\" and c == \"carnivoro\":\n",
    "    print(\"aguia\")\n",
    "  elif c == \"onivoro\":\n",
    "      print(\"pomba\")\n",
    "  if b == \"mamifero\" and c == \"onivoro\":\n",
    "     print(\"homem\")\n",
    "  elif c == \"herbivoro\":\n",
    "     print(\"vaga\")\n",
    "\n",
    "if a == \"invertebrado\":\n",
    "  if b == \"inseto\" and c == \"hematofago\":\n",
    "    print(\"pulga\")\n",
    "  elif c == \"herbivoro\":\n",
    "      print(\"lagarta\")\n",
    "  if b == \"anelideo\" and c == \"hematofago\":\n",
    "     print(\"sanguessuga\")\n",
    "  elif c == \"onivoro\":\n",
    "     print(\"minhoca\")"
   ]
  },
  {
   "cell_type": "code",
   "execution_count": null,
   "metadata": {},
   "outputs": [],
   "source": [
    "# Desafio 2 - 3\n",
    "def main():\n",
    "    a = input()\n",
    "    b = input()\n",
    "    c = input()\n",
    "\n",
    "    if a.lower() == \"vertebrado\":\n",
    "        if b.lower() == \"ave\":\n",
    "            if c.lower() == \"carnivoro\":\n",
    "                print(\"aguia\")\n",
    "            else:\n",
    "                print(\"pomba\")\n",
    "        else:\n",
    "            if c.lower() == \"onivoro\":\n",
    "                print(\"homem\")\n",
    "            else:\n",
    "                print(\"vaca\")\n",
    "    else:\n",
    "        if b.lower() == \"inseto\":\n",
    "            if c.lower() == \"hematofago\":\n",
    "                print(\"pulga\")\n",
    "            else:\n",
    "                print(\"lagarta\")\n",
    "        else:\n",
    "            if c.lower() == \"hematofago\":\n",
    "                print(\"sanguessuga\")\n",
    "            else:\n",
    "                print(\"minhoca\")\n",
    "                \n",
    "main()"
   ]
  }
 ],
 "metadata": {
  "kernelspec": {
   "display_name": "Python 3",
   "language": "python",
   "name": "python3"
  },
  "language_info": {
   "codemirror_mode": {
    "name": "ipython",
    "version": 3
   },
   "file_extension": ".py",
   "mimetype": "text/x-python",
   "name": "python",
   "nbconvert_exporter": "python",
   "pygments_lexer": "ipython3",
   "version": "3.11.3"
  },
  "orig_nbformat": 4
 },
 "nbformat": 4,
 "nbformat_minor": 2
}
