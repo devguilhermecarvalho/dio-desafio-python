{
 "cells": [
  {
   "cell_type": "markdown",
   "metadata": {},
   "source": [
    "DESAFIO 01\n",
    "O microblog Twitter é conhecido por limitar as postagens em 140 caracteres. Conferir se um texto vai caber em um tuíte é sua tarefa.\n",
    "\n",
    "Entrada\n",
    "A entrada é uma linha de texto T (1 ≤ |T| ≤ 500).\n",
    "\n",
    "Saída\n",
    "A saída é dada em uma única linha. Ela deve ser \"TWEET\" (sem as aspas) se a linha de texto T tem até 140 caracteres. Se T tem mais de 140 caracteres, a saída deve ser \"MUTE\"."
   ]
  },
  {
   "cell_type": "code",
   "execution_count": null,
   "metadata": {},
   "outputs": [],
   "source": [
    "#Exercício 1\n",
    "texto = input(\"\")\n",
    "\n",
    "if len(texto) <= 140:\n",
    "    print(\"TWEET\")\n",
    "else:\n",
    "    print(\"MUTE\")"
   ]
  },
  {
   "cell_type": "markdown",
   "metadata": {},
   "source": [
    "Desafio 02\n",
    "Leia um valor inteiro entre 1 e 12, inclusive. Correspondente a este valor, deve ser apresentado como resposta o mês do ano por extenso, em inglês, com a primeira letra maiúscula.\n",
    "\n",
    "Entrada\n",
    "A entrada contém um único valor inteiro.\n",
    "\n",
    "Saída\n",
    "Imprima por extenso o nome do mês correspondente ao número existente na entrada, com a primeira letra em maiúscula."
   ]
  },
  {
   "cell_type": "code",
   "execution_count": null,
   "metadata": {},
   "outputs": [],
   "source": [
    "#Exercício 2\n",
    "month = input()\n",
    "\n",
    "months_dict = {\n",
    "    \"1\":\"January\",\n",
    "    \"2\":\"February\",\n",
    "    \"3\":\"March\",\n",
    "    \"4\":\"April\",\n",
    "    \"5\":\"May\",\n",
    "    \"6\":\"June\",\n",
    "    \"7\":\"July\",\n",
    "    \"8\":\"August\",\n",
    "    \"9\":\"September\",\n",
    "    \"10\":\"October\",\n",
    "    \"11\":\"November\",\n",
    "    \"12\":\"December\"\n",
    "}\n",
    "\n",
    "if month in months_dict:\n",
    "  month_select = months_dict[month]\n",
    "  print(month_select.capitalize())"
   ]
  },
  {
   "cell_type": "markdown",
   "metadata": {},
   "source": [
    "Desafio 03\n",
    "Paulinho tem em suas mãos um novo problema. Agora a sua professora lhe pediu que construísse um programa para verificar, à partir de dois valores muito grandes A e B, se B corresponde aos últimos dígitos de A.\n",
    "\n",
    "Entrada\n",
    "A entrada consiste de vários casos de teste. A primeira linha de entrada contém um inteiro N que indica a quantidade de casos de teste. Cada caso de teste consiste de dois valores A e B maiores que zero, cada um deles podendo ter até 1000 dígitos.\n",
    "\n",
    "Saída\n",
    "Para cada caso de entrada imprima uma mensagem indicando se o segundo valor encaixa no primeiro valor, confome exemplo abaixo."
   ]
  },
  {
   "cell_type": "code",
   "execution_count": null,
   "metadata": {},
   "outputs": [],
   "source": [
    "N = int(input())\n",
    "\n",
    "while N > 0:\n",
    "    # Leitura dos valores A e B\n",
    "    A, B = input().split()      # Entrada dos valores A e B e o corte\n",
    "\n",
    "    # Verifica se B encaixa nos últimos dígitos de A\n",
    "    if len(B) > len(A):         # Se os dígitos de B são maiores que A\n",
    "        print(\"nao encaixa\")    # Escreva\n",
    "    else:                       # Se não\n",
    "        if A[-len(B):] == B:    # Verifica se A com o mesmo comprimento de B invertido [-len(B):] é igual a B\n",
    "            print(\"encaixa\")    # Se os últimos dígitos de A forem iguais os últimos dígitos de B\n",
    "        else:\n",
    "            print(\"nao encaixa\") # Se não\n",
    "\n",
    "    N -= 1"
   ]
  }
 ],
 "metadata": {
  "kernelspec": {
   "display_name": "Python 3",
   "language": "python",
   "name": "python3"
  },
  "language_info": {
   "codemirror_mode": {
    "name": "ipython",
    "version": 3
   },
   "file_extension": ".py",
   "mimetype": "text/x-python",
   "name": "python",
   "nbconvert_exporter": "python",
   "pygments_lexer": "ipython3",
   "version": "3.11.3"
  },
  "orig_nbformat": 4
 },
 "nbformat": 4,
 "nbformat_minor": 2
}
