{
 "cells": [
  {
   "cell_type": "markdown",
   "metadata": {},
   "source": [
    "- Sistema Bancário\n",
    "        \n",
    "        3 Operações\n",
    "1 - Depósito\n",
    "    * somente valores positivos\n",
    "2 - Saque\n",
    "    * valores positivos que devem ser registrados como negativos\n",
    "    * apenas 3 saques diários com o limite de 500 saque\n",
    "    * caso não haja saldo, não deverá ser possível com uma mensagem de erro por falta de saldo\n",
    "3 - Extrato\n",
    "    * no fim da listagem saldo atual da conta\n",
    "    * todas as operacoes devem estar listadas"
   ]
  },
  {
   "cell_type": "code",
   "execution_count": 10,
   "metadata": {},
   "outputs": [
    {
     "name": "stdout",
     "output_type": "stream",
     "text": [
      "# Depósito #\n",
      "O valor de 300.00 foi depositado com sucesso!\n",
      "O seu saldo é: 800.00\n"
     ]
    }
   ],
   "source": [
    "#teamplete\n",
    "menu = \"\"\" \n",
    "\n",
    "    [d] Depositar\n",
    "    [s] Sacar\n",
    "    [e] Extrato\n",
    "    [q] Sair\n",
    " \n",
    "=> \"\"\"\n",
    "\n",
    "saldo = 500\n",
    "limite = 500\n",
    "extrato = \"\"\n",
    "numero_saques = 0\n",
    "LIMITE_SAQUES = 3\n",
    "\n",
    "while True:\n",
    "\n",
    "    opcao  = input(menu)\n",
    "\n",
    "    if opcao == \"d\":\n",
    "        print(\"# Depósito #\")\n",
    "        valor_deposito = float(input(\"Digite o valor do DEPÓSITO:\"))\n",
    "        if valor_deposito > 0:\n",
    "             saldo += valor_deposito\n",
    "             print(f\"O valor de R$ {valor_deposito:.2f} foi depositado com sucesso!\")\n",
    "             print(f\"O seu saldo é: R$ {saldo:.2f}\")\n",
    "        else:\n",
    "             print(\"O valor do depósito não é válido.\")\n",
    "\n",
    "    if opcao == \"s\":\n",
    "        print(\"# Sacar #\")\n",
    "        valor_saque = int(input(\"Digite o valor do SAQUE:\"))\n",
    "        \n",
    "        # Verificações\n",
    "        verificador_saldo = valor_saque > saldo\n",
    "        verificador_limite = valor_saque > limite\n",
    "        verificador_saques = numero_saques >= LIMITE_SAQUES \n",
    "        \n",
    "        if verificador_saldo:\n",
    "            print(\"Operação falhou!Saldo insuficiente.\")\n",
    "        elif verificador_limite:\n",
    "            print(\"Operação falhou!O valor excede o seu limite.\")\n",
    "        elif verificador_saques:\n",
    "            print(\"Operação falhou!Número máximo de tentativas.\")\n",
    "        elif valor_saque > 0:\n",
    "            saldo -= valor_saque\n",
    "            extrato += f\"Saque: {valor_saque:.2f}\\n\"\n",
    "            numero_saques += 1\n",
    "        else:\n",
    "            print(\"Operação Falhou! Valor inválido.\")\n",
    "\n",
    "    if opcao == \"e\":\n",
    "        print(\"# Extrato #\")\n",
    "        print(\"Não foram realizadas movimentações.\" if not extrato else extrato )\n",
    "        print(f\"\\nSaldo: R$ {saldo:.2f}\")\n",
    "\n",
    "    if opcao == \"q\":\n",
    "        print(\"Obrigado, volte sempre!\")\n",
    "        break"
   ]
  }
 ],
 "metadata": {
  "kernelspec": {
   "display_name": "Python 3",
   "language": "python",
   "name": "python3"
  },
  "language_info": {
   "codemirror_mode": {
    "name": "ipython",
    "version": 3
   },
   "file_extension": ".py",
   "mimetype": "text/x-python",
   "name": "python",
   "nbconvert_exporter": "python",
   "pygments_lexer": "ipython3",
   "version": "3.11.3"
  },
  "orig_nbformat": 4
 },
 "nbformat": 4,
 "nbformat_minor": 2
}
